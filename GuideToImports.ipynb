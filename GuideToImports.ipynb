{
 "cells": [
  {
   "cell_type": "markdown",
   "metadata": {},
   "source": [
    "# A Detailed Beginner's Guide to Python Imports"
   ]
  },
  {
   "cell_type": "markdown",
   "metadata": {},
   "source": [
    "## What Is an Import?\n",
    "**Imports** are statements that allow us to use code that lives somewhere different from where we're currently working. We cannot (or rather, we absolutely should not) develop even a modest Python program without them. They're essential. \n",
    "\n",
    "They're also *significantly* more complicated than most folks assume - filled with plenty of traps for unwary programmers to fall into.\n",
    "\n",
    "In this notebook, we'll cover imports from the basics (\"What even IS an import?\") to the edge of what is possible. (Note: we're speaking from a Python3.2+ perspective).\n",
    "\n",
    "Dig in, and enjoy!"
   ]
  },
  {
   "cell_type": "markdown",
   "metadata": {},
   "source": [
    "### Where Does Python Code Live?\n",
    "\n",
    "Before we can start talking about importing Python code from various places, we need to first discuss the places in which Python code lives.\n",
    "\n",
    "### Modules\n",
    "Python code lives in files that end in \".py\". \n",
    "In Python-speak, a file that ends in \".py\" is also a **module**.\n",
    "\n",
    "For example, let's write some Python code to create a dinner plate and put it in a file named ```dinner_plate.py```\n",
    "\n",
    "\n",
    "`dinner_plate.py`\n",
    "\n",
    "```python\n",
    "class DinnerPlate( object ):\n",
    "    def __repr__( self ):\n",
    "        return \"DinnerPlate()\"\n",
    "    \n",
    "def make_dinner_plate():\n",
    "    return DinnerPlate()\n",
    "```\n",
    "\n",
    "Here's what our world looks like:\n",
    "\n",
    "```text\n",
    ".\n",
    "├── dinner_plate.py\n",
    "└── GuideToImports.ipynb  # We're right here!\n",
    "```\n",
    "\n",
    "We're currently inside of the `GuideToImports.ipynb` Jupyter Notebook, and right beside us is a single file named `dinner_plate.py`. Since Python files are modules, we could also say that we have a single module named `dinner_plate`. \n",
    "\n",
    "There's a weird convention here that we need to talk about.\n",
    "\n",
    "Notice that when we mentioned the file, we called it `dinner_plate.py`. But when we mentioned the module, we called it `dinner_plate`. There's only one object here, but we use two different names for it. When we're talking about this object as a file, we call it `dinner_plate.py` - *with* the \".py\". But when we're talking about this object as a module, we call it `dinner_plate` - *without* the \".py\".\n",
    "\n",
    "Yeah, yeah, yeah. It sounds totally stupid to have two *slightly different* names for the same thing. But, believe it or not, this is going to end up mattering a LOT."
   ]
  },
  {
   "cell_type": "markdown",
   "metadata": {},
   "source": [
    "### Packages\n",
    "If Python code lives in modules, then where do modules live? \n",
    "\n",
    "Modules live in folders (also called directories), or in Python-speak, **packages**.\n",
    "Let me repeat that: packages are just folders.\n",
    "\n",
    "Just as modules allow us to group Python snippets together, packages allow us to group modules together. \n",
    "\n",
    "For example, let's say that, in addition to our `dinner_plate` module, we create a similar module, `cup`, and we put it right beside `dinner_plate`.\n",
    "\n",
    "`cup`\n",
    "\n",
    "```python\n",
    "class Cup( object ):\n",
    "    def __repr__( self ):\n",
    "        return \"Cup()\"\n",
    "    \n",
    "def make_cup():\n",
    "    return Cup()\n",
    "```\n",
    "\n",
    "Here's what our world looks like now:"
   ]
  },
  {
   "cell_type": "markdown",
   "metadata": {},
   "source": [
    "```text\n",
    ".\n",
    "├── cup.py\n",
    "├── dinner_plate.py\n",
    "└── GuideToImports.ipynb  # We're right here!\n",
    "```"
   ]
  },
  {
   "cell_type": "markdown",
   "metadata": {},
   "source": [
    "Now this is all well and good, but we might want to group `dinner_plate` and `cup.` together into a package named `flatware`. So, we create a folder named `flatware` and move `cup` and `dinner_plate` into that folder.\n",
    "\n",
    "Now we have a **package** named `flatware` that contains two modules named `cup` and `dinner_plate`."
   ]
  },
  {
   "cell_type": "markdown",
   "metadata": {},
   "source": [
    "```text\n",
    ".\n",
    "├── flatware\n",
    "│   ├── cup.py\n",
    "│   └── dinner_plate.py\n",
    "└── GuideToImports.ipynb # We're right here!\n",
    "\n",
    "```"
   ]
  },
  {
   "cell_type": "markdown",
   "metadata": {},
   "source": [
    "Lastly, packages can also have more packages inside of them! We call these inner packages **subpackages**, but there's nothing special about them. They just regular packages that happen to live inside of another package.\n",
    "\n",
    "For example, let's create a subpackge inside of `flatware` named `utensils` and add two modules to it: `fork` and `spoon`.\n",
    "\n",
    "`fork.py`\n",
    "\n",
    "```python\n",
    "class Fork( object ):\n",
    "    def __repr__( self ):\n",
    "        return \"Fork()\"\n",
    " \n",
    "def make_fork():\n",
    "    return Fork()\n",
    "```\n",
    "\n",
    "`spoon.py`\n",
    "\n",
    "```python\n",
    "class Spoon( object ):\n",
    "    def __repr__( self ):\n",
    "        return \"Spoon()\"\n",
    "    \n",
    "def make_spoon():\n",
    "    return Spoon()\n",
    "```\n",
    "\n",
    "Now we have a package named `flatware` that contains two modules, `cup` and `dinner_plate`, as well as a subpacakge named `utensilts`. The `utensils` subpackage has two modules,`fork` and `spoon`.\n",
    "\n",
    "```text\n",
    ".\n",
    "├── flatware\n",
    "│   ├── cup.py\n",
    "│   ├── dinner_plate.py\n",
    "│   └── utensils\n",
    "│       ├── fork.py\n",
    "│       └── spoon.py\n",
    "└── GuideToImports.ipynb # We're right here!\n",
    "```"
   ]
  },
  {
   "cell_type": "markdown",
   "metadata": {},
   "source": [
    "## Imports 101: The Basics of Using Imports\n",
    "Now that we know where Python code lives, it's time to get back to our original question. \n",
    "\n",
    "How do we **import** a Python object from **where it lives** into **where we want to use it?**\n",
    "\n",
    "To import an object, we need to do two things:\n",
    "1. Identify the complete **path** from the top of our project to the object we want to import\n",
    "2. Write an import statement\n",
    "\n",
    "Keeping these two things in mind, let's go import some stuff!"
   ]
  },
  {
   "cell_type": "markdown",
   "metadata": {},
   "source": [
    "### Importing a Module\n",
    "\n",
    "Let's try to import the `fork` module!\n",
    "\n",
    "#### Step 1: Identifying the Complete Path\n",
    "\n",
    "We need to get the complete path from the top of our project to where `fork` is. \n",
    "\n",
    "```text\n",
    ".\n",
    "├── flatware\n",
    "│   ├── cup.py\n",
    "│   ├── dinner_plate.py\n",
    "│   └── utensils\n",
    "│       ├── fork.py\n",
    "│       └── spoon.py\n",
    "└── GuideToImports.ipynb # We're right here!\n",
    "```\n",
    "\n",
    "To get from the top of our project to `fork`, we have to go into the `flatware` package, then into the `utensils` package, and finally into the `fork` module. \n",
    "\n",
    "This means that the complete path from where we are to `fork` is:\n",
    "\n",
    "`flatware.utensils.fork`\n",
    "\n",
    "#### Step 2: Writing the Import Statement\n",
    "\n",
    "Now that we have our path, `flatware.utensils.fork`, we're ready to write a real Python import statement.\n",
    "\n",
    "Here's the syntax:"
   ]
  },
  {
   "cell_type": "code",
   "execution_count": 16,
   "metadata": {},
   "outputs": [],
   "source": [
    "import flatware.utensils.fork"
   ]
  },
  {
   "cell_type": "markdown",
   "metadata": {},
   "source": [
    "And that we have it! We have successfully imported the `fork` module!\n",
    "\n",
    "Take note: import statements import **modules**, not files. This means that we imported the `fork` **module**, not the `fork.py` file. \n",
    "\n",
    "We should never us \".py\" when we're trying to import a module. *Because modules do not end in \".py\"*\n",
    "\n",
    "(See! The whole file vs. module thing from earliler came in handy!)"
   ]
  },
  {
   "cell_type": "markdown",
   "metadata": {},
   "source": [
    "### Using the Imported Module\n",
    "\n",
    "Now that we've imported `fork`, we're now ready to use the two objects inside of `fork`: the class `Fork` and the function `make_fork`. \n",
    "\n",
    "To use one of these objects - for example, the function `make_fork` - we need to use the complete path to `make_fork`: `flatware.utensils.fork.make_fork`"
   ]
  },
  {
   "cell_type": "code",
   "execution_count": 17,
   "metadata": {},
   "outputs": [
    {
     "data": {
      "text/plain": [
       "Fork()"
      ]
     },
     "execution_count": 17,
     "metadata": {},
     "output_type": "execute_result"
    }
   ],
   "source": [
    "import flatware.utensils.fork\n",
    "\n",
    "flatware.utensils.fork.make_fork()"
   ]
  },
  {
   "cell_type": "markdown",
   "metadata": {},
   "source": [
    "We got a fork object! Hurray!\n",
    "\n",
    "That was pretty painless. The only headache was how much we had to type in order to call the `make_fork` function: `flatware.utensils.fork.make_fork()`\n",
    "\n",
    "Luckily, Python provides a handy way around that."
   ]
  },
  {
   "cell_type": "markdown",
   "metadata": {},
   "source": [
    "### Importing an Individual Object from a Module\n",
    "\n",
    "In our previous example, we imported the `fork` module and then accessed the `make_fork` function inside of `fork`.\n",
    "\n",
    "This time, we're going to try something different. Instead of importing the `fork` module, we're going to import an single object from the `fork` module.\n",
    "\n",
    "For example, we can reach into the `fork` module and import just the `make_fork` function:"
   ]
  },
  {
   "cell_type": "code",
   "execution_count": 18,
   "metadata": {},
   "outputs": [
    {
     "data": {
      "text/plain": [
       "Fork()"
      ]
     },
     "execution_count": 18,
     "metadata": {},
     "output_type": "execute_result"
    }
   ],
   "source": [
    "from flatware.utensils.fork import make_fork\n",
    "\n",
    "make_fork()"
   ]
  },
  {
   "cell_type": "markdown",
   "metadata": {},
   "source": [
    "And there's our Fork again! \n",
    "\n",
    "Notice how we no longer have to call `flatware.utensils.fork.make_fork()`, we can simply write `make_fork()`. Convenient!\n",
    "\n",
    "Take note: we didn't import all of the objects that live in the `fork` module; we just imported `make_fork`. If we tried to access *anything else* from the `fork` module, we would run into an error.\n",
    "\n",
    "Luckily, this \"from ... \" syntax doesn't limit us to importing only a single object. If we wanted to import the class `Fork` *and* the function `make_fork` from the `fork` module, we can do that in a single statement:"
   ]
  },
  {
   "cell_type": "code",
   "execution_count": 19,
   "metadata": {},
   "outputs": [
    {
     "data": {
      "text/plain": [
       "(Fork(), Fork())"
      ]
     },
     "execution_count": 19,
     "metadata": {},
     "output_type": "execute_result"
    }
   ],
   "source": [
    "from flatware.utensils.fork import make_fork, Fork\n",
    "\n",
    "make_fork(), Fork()"
   ]
  },
  {
   "cell_type": "markdown",
   "metadata": {},
   "source": [
    "### Nicknaming Our Imported Objects\n",
    "We've now seen two different kinds of imports:\n",
    "- **import a.path.to.a.module**\n",
    "- and **from a.path.to.a.module import something**\n",
    "\n",
    "But wait! There's more!\n",
    "\n",
    "We can also give **nicknames** to the objects that we import!\n",
    "\n",
    "Check this out:"
   ]
  },
  {
   "cell_type": "code",
   "execution_count": 20,
   "metadata": {},
   "outputs": [
    {
     "data": {
      "text/plain": [
       "Fork()"
      ]
     },
     "execution_count": 20,
     "metadata": {},
     "output_type": "execute_result"
    }
   ],
   "source": [
    "import flatware.utensils.fork as my_fork_module\n",
    "my_fork_module.make_fork()"
   ]
  },
  {
   "cell_type": "markdown",
   "metadata": {},
   "source": [
    "In writing `as my_fork_module`, we're giving a nickname to `my_fork_module` that only applies here. The original `fork` module didn't change.\n",
    "\n",
    "Now when we want to call the function `make_fork`, we can use our nickname, `my_fork_module`.\n",
    "\n",
    "Additionally, we can use nicknames with **from** imports!"
   ]
  },
  {
   "cell_type": "code",
   "execution_count": 21,
   "metadata": {},
   "outputs": [
    {
     "data": {
      "text/plain": [
       "Fork()"
      ]
     },
     "execution_count": 21,
     "metadata": {},
     "output_type": "execute_result"
    }
   ],
   "source": [
    "from flatware.utensils.fork import make_fork as fork_function\n",
    "\n",
    "fork_function()"
   ]
  },
  {
   "cell_type": "markdown",
   "metadata": {},
   "source": [
    "We can even import multiple objects *and* rename them:"
   ]
  },
  {
   "cell_type": "code",
   "execution_count": 22,
   "metadata": {},
   "outputs": [
    {
     "data": {
      "text/plain": [
       "(Fork(), Fork())"
      ]
     },
     "execution_count": 22,
     "metadata": {},
     "output_type": "execute_result"
    }
   ],
   "source": [
    "from flatware.utensils.fork import make_fork as fork_function, Fork as ForkClass\n",
    "\n",
    "fork_function(), ForkClass()"
   ]
  },
  {
   "cell_type": "markdown",
   "metadata": {},
   "source": [
    "### Absolute and Relative Imports\n",
    "We haven't mentioned this before, but there are actually two different kinds of imports: absolute imports and relative imports.\n",
    "\n",
    "#### Absolute Imports\n",
    "\n",
    "With absolute imports, we have to include the name of every package and module in the path from the top of our project to the object we want to import.\n",
    "\n",
    "absolute imports are what we've been using this whole time.\n",
    "\n",
    "\n",
    "#### Relative Imports\n",
    "\n",
    "Relative imports are different.\n",
    "\n",
    "With relative imports, we **don't** have to include the name of every pacakge in our path. Instead, we can use special nicknames that Python assigns to packages depending on their position **relative** to where we are.\n",
    "\n",
    "Specifically:\n",
    "1. the package we're currently inside is nicknamed: **.** (a single dot)\n",
    "2. the package one level above us is nicknamed: **..** (two dots)\n",
    "3. the package two levels above us is nicknamed: **...** (three dots)\n",
    "\n",
    "... and so on...\n",
    "\n",
    "As an example, let's say we're working inside of `fork.py`, and we want to import the `make_cup` function from `cup.py` and the `make_spoon` function from `spoon.py`.\n",
    "\n",
    "```text\n",
    ".\n",
    "├── flatware\n",
    "│   ├── cup.py\n",
    "│   ├── dinner_plate.py\n",
    "│   └── utensils\n",
    "│       ├── fork.py # Now we're right here!\n",
    "│       └── spoon.py\n",
    "└── GuideToImports.ipynb \n",
    "```\n",
    "\n",
    "If we were using absolute imports, we would the full path from the beginning of our project to the objects that we want to import:\n",
    "```python\n",
    "from flatware.utensils.spoon import make_spoon\n",
    "from flatware.cup import make_cup\n",
    "```\n",
    "But with relative imports, we can replace package names with dots. \n",
    "\n",
    "Since we're currently in `fork.py`...\n",
    "- **.** (single dot) refers to our current package: `flatware.utensils`\n",
    "- **\"..\"** (double dot) refers to the pacakge above us: `flateware`\n",
    "\n",
    "Making those replacements yields this:\n",
    "\n",
    "```python\n",
    "from .spoon import make_spoon\n",
    "from ..cup import make_cup\n",
    "```\n",
    "**Important Note:** If we want to use relative imports, we must use `from`.\n",
    "\n",
    "\n",
    "#### Absolute and Relative: Which Should We Use?\n",
    "Generally speaking, we should prefer absolute imports over relative imports. \n",
    "\n",
    "Absolute imports are clearer than their relative counterparts. With absolute imports, we have the full and complete paths to our imported objects. With relative imports, we have to mentally convert the dots into packages and hope that we got it right. \n",
    "\n",
    "Of course, there is one big advantages to relative imports. Relative imports don't depend on the exact names of our packages. If we change the names of our packages but do not change their structure, absolute imports will break, but relative imports will still succeed. \n",
    "\n",
    "Is the extra flexibility of relative imports worth sacrificing the clarity of absolute imports? Perhaps not. These days, most text-editors and IDEs are capable of automatically renaming things for us -- we don't *need* the flexibility of relative imports. \n",
    "\n",
    "Of course this is a decision everyone has to make on their own."
   ]
  },
  {
   "cell_type": "markdown",
   "metadata": {},
   "source": [
    "## Imports 102: Importing a Module vs. Running a Module vs. Running a File\n",
    "\n",
    "Now that we have explored the basics, it's time to venture off the garden path. Here's perhaps the most horrifying element of Python imports...\n",
    "\n",
    "**We can have perfectly good imports that break completely depending on how we use our modules.**\n",
    "\n",
    "For example, if we have a file, `cool_code.py`, that imports some things, those imports will behave differently depending on if we...\n",
    "\n",
    "1. Import the `cool_code` module\n",
    "2. Run the `cool_code` module\n",
    "3. Run the `cool_code.py` file\n",
    "\n",
    "(Also! Notice how, once again, we're differentiating between the `cool_code` module and the `cool_code.py` file.)\n",
    "\n",
    "This sounds... nasty, confusing, and disappointing. \n",
    "\n",
    "Let's try and make sense of this using an example. Here's a simple project:\n",
    "\n",
    "```text\n",
    "vehicles\n",
    "├── engines\n",
    "│   └── truck_engine.py\n",
    "└── trucks\n",
    "    └── chevy.py\n",
    "```\n",
    "\n",
    "`truck_engine`\n",
    "\n",
    "```python\n",
    "class TruckEngine( object ):\n",
    "\tdef start( self ):\n",
    "\t\treturn \"VROOM!\"\n",
    "```\n",
    "\n",
    "`chevy`\n",
    "```python\n",
    "from vehicles.engines.truck_engine import TruckEngine\n",
    "\n",
    "class Silverado( object ):\n",
    "\n",
    "\tdef __init__( self ):\n",
    "\t\tself.engine = TruckEngine()\n",
    "\n",
    "\tdef start( self ):\n",
    "\t\treturn self.engine.start()\n",
    "```\n",
    "\n",
    "We have a `vehicle` package with two subpackages: `engines` and `trucks`. The `engines` subpackage has a `truck_engine` module with a `TruckEngine` class. The `trucks` subpackage has a `chevy` module with a `Silverado` class. \n",
    "\n",
    "The `Silverado` class needs an engine, so it imports `Truck` engine from the top of the project using the path `vehicles.engines.truck_engine`. \n",
    "\n",
    "### Importing a Module\n",
    "\n",
    "Let's try importing the `Silverado` class and using it!"
   ]
  },
  {
   "cell_type": "code",
   "execution_count": 23,
   "metadata": {},
   "outputs": [
    {
     "data": {
      "text/plain": [
       "'VROOM!'"
      ]
     },
     "execution_count": 23,
     "metadata": {},
     "output_type": "execute_result"
    }
   ],
   "source": [
    "from vehicles.trucks.chevy import Silverado\n",
    "\n",
    "myTruck = Silverado()\n",
    "myTruck.start()"
   ]
  },
  {
   "cell_type": "markdown",
   "metadata": {},
   "source": [
    "We imported our `Silverado` class from the `chevy` module and used it; everything worked perfectly.\n",
    "\n",
    "No surprises here!\n",
    "\n",
    "### Running a Python File\n",
    "\n",
    "Now let's try running our `chevy.py` file. Our imports are good, and our Python is solid. Everything *should* work fine. Let's give it a go.\n",
    "\n",
    "To run a Python file, we need to open up our command line (also called the terminal) and enter the `python` command followed by the path through our filesystem to our `chevy.py` file.\n",
    "\n",
    "Like this..."
   ]
  },
  {
   "cell_type": "code",
   "execution_count": 24,
   "metadata": {},
   "outputs": [
    {
     "name": "stderr",
     "output_type": "stream",
     "text": [
      "Traceback (most recent call last):\n",
      "  File \"vehicles/trucks/chevy.py\", line 1, in <module>\n",
      "    from vehicles.engines.truck_engine import TruckEngine\n",
      "ModuleNotFoundError: No module named 'vehicles'\n"
     ]
    },
    {
     "ename": "CalledProcessError",
     "evalue": "Command 'b'python vehicles/trucks/chevy.py\\n'' returned non-zero exit status 1.",
     "output_type": "error",
     "traceback": [
      "\u001b[0;31m---------------------------------------------------------------------------\u001b[0m",
      "\u001b[0;31mCalledProcessError\u001b[0m                        Traceback (most recent call last)",
      "\u001b[0;32m<ipython-input-24-7f6debbca43d>\u001b[0m in \u001b[0;36m<module>\u001b[0;34m\u001b[0m\n\u001b[0;32m----> 1\u001b[0;31m \u001b[0mget_ipython\u001b[0m\u001b[0;34m(\u001b[0m\u001b[0;34m)\u001b[0m\u001b[0;34m.\u001b[0m\u001b[0mrun_cell_magic\u001b[0m\u001b[0;34m(\u001b[0m\u001b[0;34m'bash'\u001b[0m\u001b[0;34m,\u001b[0m \u001b[0;34m''\u001b[0m\u001b[0;34m,\u001b[0m \u001b[0;34m'python vehicles/trucks/chevy.py\\n'\u001b[0m\u001b[0;34m)\u001b[0m\u001b[0;34m\u001b[0m\u001b[0;34m\u001b[0m\u001b[0m\n\u001b[0m",
      "\u001b[0;32m~/.local/share/virtualenvs/GuideToImports-e6Nz-2ie/lib/python3.7/site-packages/IPython/core/interactiveshell.py\u001b[0m in \u001b[0;36mrun_cell_magic\u001b[0;34m(self, magic_name, line, cell)\u001b[0m\n\u001b[1;32m   2350\u001b[0m             \u001b[0;32mwith\u001b[0m \u001b[0mself\u001b[0m\u001b[0;34m.\u001b[0m\u001b[0mbuiltin_trap\u001b[0m\u001b[0;34m:\u001b[0m\u001b[0;34m\u001b[0m\u001b[0;34m\u001b[0m\u001b[0m\n\u001b[1;32m   2351\u001b[0m                 \u001b[0margs\u001b[0m \u001b[0;34m=\u001b[0m \u001b[0;34m(\u001b[0m\u001b[0mmagic_arg_s\u001b[0m\u001b[0;34m,\u001b[0m \u001b[0mcell\u001b[0m\u001b[0;34m)\u001b[0m\u001b[0;34m\u001b[0m\u001b[0;34m\u001b[0m\u001b[0m\n\u001b[0;32m-> 2352\u001b[0;31m                 \u001b[0mresult\u001b[0m \u001b[0;34m=\u001b[0m \u001b[0mfn\u001b[0m\u001b[0;34m(\u001b[0m\u001b[0;34m*\u001b[0m\u001b[0margs\u001b[0m\u001b[0;34m,\u001b[0m \u001b[0;34m**\u001b[0m\u001b[0mkwargs\u001b[0m\u001b[0;34m)\u001b[0m\u001b[0;34m\u001b[0m\u001b[0;34m\u001b[0m\u001b[0m\n\u001b[0m\u001b[1;32m   2353\u001b[0m             \u001b[0;32mreturn\u001b[0m \u001b[0mresult\u001b[0m\u001b[0;34m\u001b[0m\u001b[0;34m\u001b[0m\u001b[0m\n\u001b[1;32m   2354\u001b[0m \u001b[0;34m\u001b[0m\u001b[0m\n",
      "\u001b[0;32m~/.local/share/virtualenvs/GuideToImports-e6Nz-2ie/lib/python3.7/site-packages/IPython/core/magics/script.py\u001b[0m in \u001b[0;36mnamed_script_magic\u001b[0;34m(line, cell)\u001b[0m\n\u001b[1;32m    140\u001b[0m             \u001b[0;32melse\u001b[0m\u001b[0;34m:\u001b[0m\u001b[0;34m\u001b[0m\u001b[0;34m\u001b[0m\u001b[0m\n\u001b[1;32m    141\u001b[0m                 \u001b[0mline\u001b[0m \u001b[0;34m=\u001b[0m \u001b[0mscript\u001b[0m\u001b[0;34m\u001b[0m\u001b[0;34m\u001b[0m\u001b[0m\n\u001b[0;32m--> 142\u001b[0;31m             \u001b[0;32mreturn\u001b[0m \u001b[0mself\u001b[0m\u001b[0;34m.\u001b[0m\u001b[0mshebang\u001b[0m\u001b[0;34m(\u001b[0m\u001b[0mline\u001b[0m\u001b[0;34m,\u001b[0m \u001b[0mcell\u001b[0m\u001b[0;34m)\u001b[0m\u001b[0;34m\u001b[0m\u001b[0;34m\u001b[0m\u001b[0m\n\u001b[0m\u001b[1;32m    143\u001b[0m \u001b[0;34m\u001b[0m\u001b[0m\n\u001b[1;32m    144\u001b[0m         \u001b[0;31m# write a basic docstring:\u001b[0m\u001b[0;34m\u001b[0m\u001b[0;34m\u001b[0m\u001b[0;34m\u001b[0m\u001b[0m\n",
      "\u001b[0;32m</home/cody/.local/share/virtualenvs/GuideToImports-e6Nz-2ie/lib/python3.7/site-packages/decorator.py:decorator-gen-110>\u001b[0m in \u001b[0;36mshebang\u001b[0;34m(self, line, cell)\u001b[0m\n",
      "\u001b[0;32m~/.local/share/virtualenvs/GuideToImports-e6Nz-2ie/lib/python3.7/site-packages/IPython/core/magic.py\u001b[0m in \u001b[0;36m<lambda>\u001b[0;34m(f, *a, **k)\u001b[0m\n\u001b[1;32m    185\u001b[0m     \u001b[0;31m# but it's overkill for just that one bit of state.\u001b[0m\u001b[0;34m\u001b[0m\u001b[0;34m\u001b[0m\u001b[0;34m\u001b[0m\u001b[0m\n\u001b[1;32m    186\u001b[0m     \u001b[0;32mdef\u001b[0m \u001b[0mmagic_deco\u001b[0m\u001b[0;34m(\u001b[0m\u001b[0marg\u001b[0m\u001b[0;34m)\u001b[0m\u001b[0;34m:\u001b[0m\u001b[0;34m\u001b[0m\u001b[0;34m\u001b[0m\u001b[0m\n\u001b[0;32m--> 187\u001b[0;31m         \u001b[0mcall\u001b[0m \u001b[0;34m=\u001b[0m \u001b[0;32mlambda\u001b[0m \u001b[0mf\u001b[0m\u001b[0;34m,\u001b[0m \u001b[0;34m*\u001b[0m\u001b[0ma\u001b[0m\u001b[0;34m,\u001b[0m \u001b[0;34m**\u001b[0m\u001b[0mk\u001b[0m\u001b[0;34m:\u001b[0m \u001b[0mf\u001b[0m\u001b[0;34m(\u001b[0m\u001b[0;34m*\u001b[0m\u001b[0ma\u001b[0m\u001b[0;34m,\u001b[0m \u001b[0;34m**\u001b[0m\u001b[0mk\u001b[0m\u001b[0;34m)\u001b[0m\u001b[0;34m\u001b[0m\u001b[0;34m\u001b[0m\u001b[0m\n\u001b[0m\u001b[1;32m    188\u001b[0m \u001b[0;34m\u001b[0m\u001b[0m\n\u001b[1;32m    189\u001b[0m         \u001b[0;32mif\u001b[0m \u001b[0mcallable\u001b[0m\u001b[0;34m(\u001b[0m\u001b[0marg\u001b[0m\u001b[0;34m)\u001b[0m\u001b[0;34m:\u001b[0m\u001b[0;34m\u001b[0m\u001b[0;34m\u001b[0m\u001b[0m\n",
      "\u001b[0;32m~/.local/share/virtualenvs/GuideToImports-e6Nz-2ie/lib/python3.7/site-packages/IPython/core/magics/script.py\u001b[0m in \u001b[0;36mshebang\u001b[0;34m(self, line, cell)\u001b[0m\n\u001b[1;32m    243\u001b[0m             \u001b[0msys\u001b[0m\u001b[0;34m.\u001b[0m\u001b[0mstderr\u001b[0m\u001b[0;34m.\u001b[0m\u001b[0mflush\u001b[0m\u001b[0;34m(\u001b[0m\u001b[0;34m)\u001b[0m\u001b[0;34m\u001b[0m\u001b[0;34m\u001b[0m\u001b[0m\n\u001b[1;32m    244\u001b[0m         \u001b[0;32mif\u001b[0m \u001b[0margs\u001b[0m\u001b[0;34m.\u001b[0m\u001b[0mraise_error\u001b[0m \u001b[0;32mand\u001b[0m \u001b[0mp\u001b[0m\u001b[0;34m.\u001b[0m\u001b[0mreturncode\u001b[0m\u001b[0;34m!=\u001b[0m\u001b[0;36m0\u001b[0m\u001b[0;34m:\u001b[0m\u001b[0;34m\u001b[0m\u001b[0;34m\u001b[0m\u001b[0m\n\u001b[0;32m--> 245\u001b[0;31m             \u001b[0;32mraise\u001b[0m \u001b[0mCalledProcessError\u001b[0m\u001b[0;34m(\u001b[0m\u001b[0mp\u001b[0m\u001b[0;34m.\u001b[0m\u001b[0mreturncode\u001b[0m\u001b[0;34m,\u001b[0m \u001b[0mcell\u001b[0m\u001b[0;34m,\u001b[0m \u001b[0moutput\u001b[0m\u001b[0;34m=\u001b[0m\u001b[0mout\u001b[0m\u001b[0;34m,\u001b[0m \u001b[0mstderr\u001b[0m\u001b[0;34m=\u001b[0m\u001b[0merr\u001b[0m\u001b[0;34m)\u001b[0m\u001b[0;34m\u001b[0m\u001b[0;34m\u001b[0m\u001b[0m\n\u001b[0m\u001b[1;32m    246\u001b[0m \u001b[0;34m\u001b[0m\u001b[0m\n\u001b[1;32m    247\u001b[0m     \u001b[0;32mdef\u001b[0m \u001b[0m_run_script\u001b[0m\u001b[0;34m(\u001b[0m\u001b[0mself\u001b[0m\u001b[0;34m,\u001b[0m \u001b[0mp\u001b[0m\u001b[0;34m,\u001b[0m \u001b[0mcell\u001b[0m\u001b[0;34m,\u001b[0m \u001b[0mto_close\u001b[0m\u001b[0;34m)\u001b[0m\u001b[0;34m:\u001b[0m\u001b[0;34m\u001b[0m\u001b[0;34m\u001b[0m\u001b[0m\n",
      "\u001b[0;31mCalledProcessError\u001b[0m: Command 'b'python vehicles/trucks/chevy.py\\n'' returned non-zero exit status 1."
     ]
    }
   ],
   "source": [
    "%%bash\n",
    "python vehicles/trucks/chevy.py"
   ]
  },
  {
   "cell_type": "markdown",
   "metadata": {},
   "source": [
    "Oh, the horror! \n",
    "\n",
    "What went wrong? Let's check out the error message at the *very* top and see if we can make any sense of this mess...\n",
    "\n",
    "```text\n",
    "Traceback (most recent call last):\n",
    "  File \"vehicles/trucks/chevy.py\", line 1, in <module>\n",
    "    from vehicles.engines.truck_engine import TruckEngine\n",
    "ModuleNotFoundError: No module named 'vehicles'\n",
    "```\n",
    "\n",
    "When our `chevy` module tried to import `TruckEngine`, it failed because it couldn't find a module named `vehicles`. \n",
    "\n",
    "This is confusing for at least two reasons:\n",
    "1. This import worked just fine a minute ago\n",
    "2. What does Python mean by **No module named 'vehicle'?** Vehicle is a **package!** And it's right **there!**\n",
    "\n",
    "To understand what's going on, we need to understand how Python actually finds modules to import.\n",
    "\n",
    "#### How Python Finds Modules\n",
    "\n",
    "When Python starts up, it creates a giant list of places where it'll look for modules that we want to import. If our module isn't in one of those places on the list, Python won't find it and all sorts of nasty errors will pop up.\n",
    "\n",
    "This giant list of places is actually just a variable named `path` that lives inside of Python's built-in `sys` module. It's just a regular Python list with regular Python strings inside of it. We can import it and muck around with it just like any other list. \n",
    "\n",
    "Weirdly enough, the list `sys.path` starts out *completely empty*. There's nothing there, and if it stayed that way, we wouldn't be able to import anything. Luckily, Python automatically adds some things to `sys.path`. \n",
    "\n",
    "1. Python adds the directory containing all of Python's built-in modules\n",
    "2. Python adds the directory containing all of the extra packages we've personally installed\n",
    "3. And if we run a Python file (like we did just a minute ago), Python adds the directory containing the file we ran.\n",
    "\n",
    "**Yeah, yeah, yeah. This is super interesting or whatever, BUT WHAT DOES ANY OF THIS MEAN???**\n",
    "\n",
    "Our error noted that Python couldn't find the `vehicles` package, so `vehicles` must not have been in `sys.path`!\n",
    "\n",
    "So let's think about what **was** in `sys.path`. As per above, `sys.path` has the directory containing all of the built-in modules, the directory containing all of our installed modules, and finally, `sys.path` has the directory containing the file we ran.\n",
    "\n",
    "Since we ran `python vehicles/trucks/chevy.py`, the directory containing `chevy.py` was `trucks/`. So, the `trucks/` direcgtory got added in `sys.path`. \n",
    "\n",
    "See the problem? The `vehicles/` directory never got added to `sys.path`! This means that our import statement inside of the `chevy` module... \n",
    "\n",
    "```python\n",
    "from vehicles.engines.truck_engine import TruckEngine\n",
    "```\n",
    "\n",
    "...completely fails because Python cannot find the `vehicles/` part of our path! \n",
    "\n",
    "#### So... Can We Fix This? Or Can We Never Run Python Code Again?\n",
    "\n",
    "Well, there's the naive solution: right before Python reaches our `from vehicles.engines.truck_engine ...` import statement, we could manually add the `vehicles/` directory to `sys.path`. After all, `sys.path` is just a list. We can add things to it. \n",
    "\n",
    "This would work... but it is a **horrible** solution. It it just so hacky, so adhoc, and so ugly. It is also annoying: we don't want to add this...\n",
    "\n",
    "```python\n",
    "import sys.path\n",
    "sys.path.append( \"some/path/to/some/place\" )`\n",
    "```\n",
    "\n",
    "...to the top of every file that might have a problematic import. That's terrible. \n",
    "\n",
    "#### Luckily, There Is Another Way!\n",
    "\n",
    "Instead of running the **file** `vehicles/trucks/chevy.py`, we can instead run the **module** `vehicles.trucks.chevy`\n",
    "\n",
    "If we run the **module** `chevy`, Python does something slightly different to `sys.path` than when we ran the **file** `chevy.py`. Instead of adding the directory containing the **file** (which was `/trucks`), Python will add our current directory to `sys.path`.\n",
    "\n",
    "Let's remind ourselves what our current directory is...\n",
    "\n",
    "```text\n",
    ". # <--- This is our current directory\n",
    "├── GuideToImports.ipynb # We're right here!\n",
    "├── flatware\n",
    "│   ├── cup.py\n",
    "│   ├── dinner_plate.py\n",
    "│   └── utensils\n",
    "│       ├── fork.py\n",
    "│       └── spoon.py\n",
    "└── vehicles\n",
    "    ├── engines\n",
    "    │   └── truck_engine.py\n",
    "    └── trucks\n",
    "        └── chevy.py\n",
    "```\n",
    "\n",
    "Perfect! Our current directory contains `vehicles/`\n",
    "\n",
    "This means that, as long as we run the `chevy` **module** instead of the `chevy.py` **file**, the `vehicles` package will be added to `sys.path`, thus allowing Python to find `vehicles` and everything underneath it!\n",
    "\n",
    "#### But How Do We Run Something as a Module?\n",
    "\n",
    "As it turns out, it's trivially easy to run something as a module instead of as a file.\n",
    "\n",
    "Instead of running...\n",
    "\n",
    "```text\n",
    "%%bash\n",
    "python vehicles/trucks/chevy.py\n",
    "```\n",
    "\n",
    "...in our command line / terminal, we need to run..."
   ]
  },
  {
   "cell_type": "code",
   "execution_count": null,
   "metadata": {},
   "outputs": [],
   "source": [
    "%%bash\n",
    "python -m vehicles.trucks.chevy"
   ]
  },
  {
   "cell_type": "markdown",
   "metadata": {},
   "source": [
    "**AND IT WORKS! WE DON'T GET AN ERROR!**\n",
    "\n",
    "There are two things to notice:\n",
    "1. We added \"-m\" to our command. This tells Python that we're running a **module** and not a **file**.\n",
    "2. We used \"vehicles.trucks.chevy\", not \"vehicles/trucks/chevy.py\". This is because...\n",
    "    - Files are separated by slashes, but packages and modules (like all of our imports) are separated by dots.\n",
    "    - Pyton files end in \".py\", but modules do not\n",
    "    \n",
    "Once again, the seemingly trivial difference between files and modules saves the day once again.\n",
    "\n",
    "\n",
    "### This Has Been a Long, Difficult Section. Let's Summarize.\n",
    "\n",
    "- If we want to **import** modules, there's no need to worry. As long as we wrote valid import statements, Python can figure everything out for us.\n",
    "- But if we want to **run** a file or a module, we need to think about `sys.path`\n",
    "    - No matter what, `sys.path` will contain the directories where built-ins and user-installed modules  live.\n",
    "    - If we run a Python **file**, `sys.path` will contain the directory where our file lives\n",
    "    - If we run a Python **module**, `sys.path` will contain our current directory.\n",
    "        - You run a Python file like this: `python path/to/your/file.py`\n",
    "        - And you run a Python module like this: `python path.to.your.file`"
   ]
  },
  {
   "cell_type": "markdown",
   "metadata": {},
   "source": [
    "## Imports 201: Best Practices\n",
    "\n",
    "Now that we understand how to use imports, it's time to understand how to use imports *properly*.\n",
    "\n",
    "### Where Do We Put Our Imports?\n",
    "\n",
    "- We put imports at the very top of our Python modules, right after any comments/docstrings, and right before any module-level variables.\n",
    "\n",
    "```python\n",
    "\"\"\"\n",
    "Here are some comments! Comment, comment, comment!\n",
    "\"\"\"\n",
    "\n",
    "import math\n",
    "import sys\n",
    "\n",
    "MODULE_LEVEL_VARIABLE = ( \"Big\", \"Old\", \"Variable\" )\n",
    "```\n",
    "\n",
    "Every other option is terrible. Full stop. Do not suprise folks with hidden imports.\n",
    "\n",
    "### How Do We Organize Our Imports?\n",
    "\n",
    "- Every new import goes on a new line. The only exception are `from...` imports.\n",
    "\n",
    "```python\n",
    "import math\n",
    "import sys\n",
    "from my_module import function_one, function_two\n",
    "```\n",
    "\n",
    "- Group imports from the same packages together\n",
    "\n",
    "```python\n",
    "import math\n",
    "import my_package.my_module          # Imports from `my_package` are together\n",
    "import my_package.my_other_module  \n",
    "```\n",
    "\n",
    "- You should have three different sections of imports, each separated by a new line. Those sections are...\n",
    "    - Built-in imports\n",
    "    - Third-party imports\n",
    "    - Local imports \n",
    "    \n",
    "```python\n",
    "import math # \n",
    "import os # math and os are built-in\n",
    "\n",
    "import pandas\n",
    "import requests # pandas and requests are third-party modules\n",
    "\n",
    "from ..my_package.my_module import my_function\n",
    "import my_pacakge.my_subpackage.my_other_module # These are local imports\n",
    "```\n",
    "\n",
    "### How Do We Feel About Relative vs. Absolute Imports Again?\n",
    "\n",
    "- We generally prefer absolute imports over relative imports. \n",
    "    - Absolute imports make it clearer where the import is coming from. \n",
    "        - But if your absolute imports are getting incredibly long, relative imports can help. \n",
    "        - Additionally, if you think that the names of your packages will change (but their structure won't), relative imports can also help.   \n",
    "        \n",
    "```python\n",
    "from my_package.my_subpackage.my_module import my_function # We tend to prefer this...\n",
    "from ..my_subpackage.my_module import my_function          # ...over this.\n",
    "```\n",
    "\n",
    "### How Do We Feel About Nicknames?\n",
    "\n",
    "- We treat them with suspicion, especially if we're nicknaming individual functions, classes, and variables.\n",
    "\n",
    "```python\n",
    "import my_package.my_subpackage.my_subsubpackage.my_module as my_module # This is...fine.\n",
    "import my_module as jelly_beans # This is seriously questionable\n",
    "from my_module import function1 as function2 # This is a horrible idea\n",
    "```\n",
    "\n",
    "### How Do We Feel About Using \"from...\" to Import Subpackages?\n",
    "\n",
    "- We feel okay about importing subpackages, as long as you make sure that your subpackage doesn't share the same name as a third-party or built-in object.\n",
    "\n",
    "```python\n",
    "from my_package import my_subpackage # We feel okay about this...\n",
    "                                     #...if my_subpackage is unique.\n",
    "```\n",
    "\n",
    "### Can We Import Something From Somewhere Other Than Where It Was Defined?\n",
    "\n",
    "- Ugh... Yeah.. We can do this. **BUT We SHOULDN'T!** We should import objects from the module in which they were originally defined.\n",
    "\n",
    "`module_a`\n",
    "```python\n",
    "from my_package.my_subpackage import my_function\n",
    "```\n",
    "\n",
    "`module_b`\n",
    "```python\n",
    "from module_a import my_function # BOO! HISS! TERRIBLE!\n",
    "```\n",
    "\n",
    "\n",
    "\n"
   ]
  },
  {
   "cell_type": "markdown",
   "metadata": {},
   "source": [
    "## Where to Go from Here?\n",
    "\n",
    "Onwards into [the Python documentation!](https://docs.python.org/3/reference/import.html#replacing-the-standard-import-system)\n",
    "\n"
   ]
  }
 ],
 "metadata": {
  "kernelspec": {
   "display_name": "Python 3",
   "language": "python",
   "name": "python3"
  },
  "language_info": {
   "codemirror_mode": {
    "name": "ipython",
    "version": 3
   },
   "file_extension": ".py",
   "mimetype": "text/x-python",
   "name": "python",
   "nbconvert_exporter": "python",
   "pygments_lexer": "ipython3",
   "version": "3.7.3"
  }
 },
 "nbformat": 4,
 "nbformat_minor": 2
}
