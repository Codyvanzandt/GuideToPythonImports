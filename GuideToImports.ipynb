{
 "cells": [
  {
   "cell_type": "markdown",
   "metadata": {},
   "source": [
    "# A Detailed Guied to Python Imports"
   ]
  },
  {
   "cell_type": "markdown",
   "metadata": {},
   "source": [
    "## What Is an Import?\n",
    "**Imports** allow us to use code that lives somewhere else -- somewhere different than where we're currently working. "
   ]
  },
  {
   "cell_type": "markdown",
   "metadata": {},
   "source": [
    "### But What Do We Mean by \"Somewhere Else?\"\n",
    "\n",
    "### Modules\n",
    "Python code lives in files that end in \".py\"\n",
    "In Python-speak, these Python files are called **modules**.\n",
    "In a perfect world, we divide up our code into Python modules much in the same way as we divide up our writing into paragraphs. One paragraph expresses one idea, just as one module expresses one idea.\n",
    "\n",
    "For example, let's write some code to create a dinner plate and put it in a file named ```dinner_plate.py```\n",
    "\n",
    "\n",
    "`dinner_plate.py`\n",
    "\n",
    "```python\n",
    "class DinnerPlate( object ):\n",
    "    def __repr__( self ):\n",
    "        return \"DinnerPlate()\"\n",
    "    \n",
    "def make_dinner_plate():\n",
    "    return DinnerPlate()\n",
    "```\n",
    "\n",
    "Now we have a single module named ```dinner_plate.py```. Inside of that module are two objects:\n",
    "1. a class named ```DinnerPlate```\n",
    "2. and a function named ```make_dinner_plate```\n",
    "\n",
    "Here's what our world looks like:"
   ]
  },
  {
   "cell_type": "markdown",
   "metadata": {},
   "source": [
    "```text\n",
    ".\n",
    "├── dinner_plate.py\n",
    "└── GuideToImports.ipynb  # We're right here!\n",
    "```"
   ]
  },
  {
   "cell_type": "markdown",
   "metadata": {},
   "source": [
    "### Packages\n",
    "If Python code lives in modules, then where do modules live? \n",
    "\n",
    "Modules live in folders, or in Python-speak, **packages**.\n",
    "\n",
    "Just as modules allow us to group Python snippets together, packages allow us to group modules together. Continuing with our writing metaphor, we divide modules into packages just like we divide paragraphs into chapters.\n",
    "\n",
    "For example, let's say that, in addition to our ```dinner_plate.py``` module, we create a similar module, ```cup.py```, and we put it right beside ```dinner_plate.py```.\n",
    "\n",
    "`cup.py`\n",
    "\n",
    "```python\n",
    "class Cup( object ):\n",
    "    def __repr__( self ):\n",
    "        return \"Cup()\"\n",
    "    \n",
    "def make_cup():\n",
    "    return Cup()\n",
    "```\n",
    "\n",
    "Here's what our world looks like now:"
   ]
  },
  {
   "cell_type": "markdown",
   "metadata": {},
   "source": [
    "```text\n",
    ".\n",
    "├── cup.py\n",
    "├── dinner_plate.py\n",
    "└── GuideToImports.ipynb  # We're right here!\n",
    "```"
   ]
  },
  {
   "cell_type": "markdown",
   "metadata": {},
   "source": [
    "Now this is all well and good, but we might want to group ```dinner_plate.py``` and ```cup.py``` together into a package named ```flatware```. \n",
    "\n",
    "Now our world looks like this:"
   ]
  },
  {
   "cell_type": "markdown",
   "metadata": {},
   "source": [
    "```text\n",
    ".\n",
    "├── flatware\n",
    "│   ├── cup.py\n",
    "│   └── dinner_plate.py\n",
    "└── GuideToImports.ipynb # We're right here!\n",
    "\n",
    "```"
   ]
  },
  {
   "cell_type": "markdown",
   "metadata": {},
   "source": [
    "Finally, just as chapters in books can have sub-chapters, packages can have subchapters!\n",
    "\n",
    "For example, let's add two files - ```fork.py``` and ```spoon.py``` - to our ```flatware``` package inside a new sub-package named ```utensils```.\n",
    "\n",
    "`fork.py`\n",
    "\n",
    "```python\n",
    "class Fork( object ):\n",
    "    def __repr__( self ):\n",
    "        return \"Fork()\"\n",
    " \n",
    "def make_fork():\n",
    "    return Fork()\n",
    "```\n",
    "\n",
    "`spoon.py`\n",
    "\n",
    "```python\n",
    "class Spoon( object ):\n",
    "    def __repr__( self ):\n",
    "        return \"Spoon()\"\n",
    "    \n",
    "def make_spoon():\n",
    "    return Spoon()\n",
    "```\n",
    "\n",
    "Now things look like this:\n",
    "\n",
    "```text\n",
    ".\n",
    "├── flatware\n",
    "│   ├── cup.py\n",
    "│   ├── dinner_plate.py\n",
    "│   └── utensils\n",
    "│       ├── fork.py\n",
    "│       └── spoon.py\n",
    "└── GuideToImports.ipynb # We're right here!\n",
    "```"
   ]
  },
  {
   "cell_type": "markdown",
   "metadata": {},
   "source": [
    "## Imports 101: The Basics of Using Imports\n",
    "Now that we know where Python code lives, it's time to get back to our original question. \n",
    "\n",
    "How do we **import** a Python object from **where it lives** into **where we want to use it?**\n",
    "\n",
    "To import an object, we need to do three things:\n",
    "1. Identify the complete **path** from where we are to the object we want to import\n",
    "2. Optionally, provide a **nickname** for the object we're importing\n",
    "3. Write an import statement\n",
    "\n",
    "Keeping these three things in mind, let's go import some stuff!"
   ]
  },
  {
   "cell_type": "markdown",
   "metadata": {},
   "source": [
    "### Importing a Module\n",
    "\n",
    "Let's try to import the `fork.py` module!\n",
    "\n",
    "#### Step 1: Identifying the Complete Path\n",
    "\n",
    "We need to get the complete path from where we are to where `fork.py` is. \n",
    "\n",
    "```text\n",
    ".\n",
    "├── flatware\n",
    "│   ├── cup.py\n",
    "│   ├── dinner_plate.py\n",
    "│   └── utensils\n",
    "│       ├── fork.py\n",
    "│       └── spoon.py\n",
    "└── GuideToImports.ipynb # We're right here!\n",
    "```\n",
    "\n",
    "We're in `GuideToImports.ipynb`, which is right beside `flatware`.\n",
    "\n",
    "To get from where we are to `fork.py`, we have to go into the `flatware` package, then into the `utensils` package, and finally into the `fork.py` module. \n",
    "\n",
    "This means that the complete path from where we are to `fork.py` is:\n",
    "\n",
    "`flatware.utensils.fork`\n",
    "\n",
    "#### Step 2: An Optional Nickname\n",
    "\n",
    "The second thing we need - a nickname to give to `fork.py` - is optional, so for now, let's forget about it. We'll do this part later.\n",
    "\n",
    "#### Step 3: Writing the Import Statement\n",
    "\n",
    "We're finally ready to write a real Python import statement.\n",
    "\n",
    "Here's the syntax:"
   ]
  },
  {
   "cell_type": "code",
   "execution_count": 73,
   "metadata": {},
   "outputs": [],
   "source": [
    "import flatware.utensils.fork"
   ]
  },
  {
   "cell_type": "markdown",
   "metadata": {},
   "source": [
    "And that we have it! We have successfully imported `fork.py`.\n",
    "\n",
    "Take notice: our path has `fork` in it, not `fork.py`. **We should NEVER include the \".py\" in our imports.**"
   ]
  },
  {
   "cell_type": "markdown",
   "metadata": {},
   "source": [
    "#### Using the Imported Module\n",
    "\n",
    "Now that we've imported `fork.py`, we're now ready to use the two objects inside of `fork.py`: the class `Fork` and the function `make_fork`. \n",
    "\n",
    "To use one of these objects - for example, the function `make_fork` - we need to use the complete path to `make_fork`: `flatware.utensils.fork.make_fork`"
   ]
  },
  {
   "cell_type": "code",
   "execution_count": 74,
   "metadata": {},
   "outputs": [
    {
     "data": {
      "text/plain": [
       "Fork()"
      ]
     },
     "execution_count": 74,
     "metadata": {},
     "output_type": "execute_result"
    }
   ],
   "source": [
    "import flatware.utensils.fork\n",
    "\n",
    "flatware.utensils.fork.make_fork()"
   ]
  },
  {
   "cell_type": "markdown",
   "metadata": {},
   "source": [
    "We got a fork object! Hurray!\n",
    "\n",
    "Now, let's try the optional nickname part that we skipped.\n",
    "\n",
    "To import `fork.py` and nickname it some arbitrary like `my_fork_module`, we'll write this:"
   ]
  },
  {
   "cell_type": "code",
   "execution_count": 75,
   "metadata": {},
   "outputs": [],
   "source": [
    "import flatware.utensils.fork as my_fork_module"
   ]
  },
  {
   "cell_type": "markdown",
   "metadata": {},
   "source": [
    "Now when we want to call the function `make_fork`, we can use our nickname, `my_fork_module`."
   ]
  },
  {
   "cell_type": "code",
   "execution_count": 76,
   "metadata": {},
   "outputs": [
    {
     "name": "stdout",
     "output_type": "stream",
     "text": [
      "Fork()\n"
     ]
    }
   ],
   "source": [
    "import flatware.utensils.fork as my_fork_module\n",
    "\n",
    "print( my_fork_module.make_fork() )"
   ]
  },
  {
   "cell_type": "markdown",
   "metadata": {},
   "source": [
    "And again, there's our Fork!"
   ]
  },
  {
   "cell_type": "markdown",
   "metadata": {},
   "source": [
    "### Importing Something Inside of a Module\n",
    "\n",
    "In our previous example, we imported a module (`fork.py`) and then accessed the object inside of that module (`make_fork`). That's fine and dandy, but there's another option.\n",
    "\n",
    "Insead of importing an entire module, we can import individual objects from a module.\n",
    "\n",
    "So instead of writing:"
   ]
  },
  {
   "cell_type": "code",
   "execution_count": 79,
   "metadata": {},
   "outputs": [
    {
     "data": {
      "text/plain": [
       "Fork()"
      ]
     },
     "execution_count": 79,
     "metadata": {},
     "output_type": "execute_result"
    }
   ],
   "source": [
    "import flatware.utensils.fork\n",
    "\n",
    "flatware.utensils.fork.make_fork()"
   ]
  },
  {
   "cell_type": "markdown",
   "metadata": {},
   "source": [
    "We can instead write:"
   ]
  },
  {
   "cell_type": "code",
   "execution_count": 80,
   "metadata": {},
   "outputs": [
    {
     "data": {
      "text/plain": [
       "Fork()"
      ]
     },
     "execution_count": 80,
     "metadata": {},
     "output_type": "execute_result"
    }
   ],
   "source": [
    "from flatware.utensils.fork import make_fork\n",
    "\n",
    "make_fork()"
   ]
  },
  {
   "cell_type": "markdown",
   "metadata": {},
   "source": [
    "And there's our Fork again! \n",
    "\n",
    "This time, we didn't import `fork.py` in its entirety. We only imported the single function `make_fork`. \n",
    "\n",
    "This makes our import statement a little longer, but it makes calling `make_fork` a lot shorter. We no longer have to write the full path `flatware.utensils.fork.make_fork`; we can just write `make_fork`.\n",
    "\n",
    "Additionally, using this \"from ... \" syntax doesn't limit us to importing only a single object. If we wanted to import the class `Fork` *and* the function `make_fork` from the module `fork.py`, we can do that in a single statement:"
   ]
  },
  {
   "cell_type": "code",
   "execution_count": 89,
   "metadata": {},
   "outputs": [
    {
     "data": {
      "text/plain": [
       "(Fork(), Fork())"
      ]
     },
     "execution_count": 89,
     "metadata": {},
     "output_type": "execute_result"
    }
   ],
   "source": [
    "from flatware.utensils.fork import make_fork, Fork\n",
    "\n",
    "make_fork(), Fork()"
   ]
  },
  {
   "cell_type": "markdown",
   "metadata": {},
   "source": [
    "We can also give nicknames to the objects that we import, for example..."
   ]
  },
  {
   "cell_type": "code",
   "execution_count": 90,
   "metadata": {},
   "outputs": [
    {
     "data": {
      "text/plain": [
       "Fork()"
      ]
     },
     "execution_count": 90,
     "metadata": {},
     "output_type": "execute_result"
    }
   ],
   "source": [
    "from flatware.utensils.fork import make_fork as fork_function\n",
    "\n",
    "fork_function()"
   ]
  },
  {
   "cell_type": "markdown",
   "metadata": {},
   "source": [
    "We can even import multiple objects *and* rename them:"
   ]
  },
  {
   "cell_type": "code",
   "execution_count": 91,
   "metadata": {},
   "outputs": [
    {
     "data": {
      "text/plain": [
       "(Fork(), Fork())"
      ]
     },
     "execution_count": 91,
     "metadata": {},
     "output_type": "execute_result"
    }
   ],
   "source": [
    "from flatware.utensils.fork import make_fork as fork_function, Fork as ForkClass\n",
    "\n",
    "fork_function(), ForkClass()"
   ]
  },
  {
   "cell_type": "markdown",
   "metadata": {},
   "source": [
    "### Absolute Imports\n",
    "\n",
    "### Relative Imports"
   ]
  },
  {
   "cell_type": "markdown",
   "metadata": {},
   "source": [
    "## Imports 102: Imports Can Get Tricky When We Run Files \n",
    "\n",
    "### Running a Module Complicates Things"
   ]
  },
  {
   "cell_type": "markdown",
   "metadata": {},
   "source": [
    "## Imports 201: How Do Imports *Really* Work?\n",
    "\n",
    "### Finders\n",
    "\n",
    "### Loaders"
   ]
  },
  {
   "cell_type": "markdown",
   "metadata": {},
   "source": [
    "## Imports 202: How Do I Import *THAT*?\n",
    "\n",
    "### Reasoning About Import Statements\n",
    "\n",
    "### Importing from a Sibling\n",
    "\n",
    "### Importing from a Child\n",
    "\n",
    "### Importing from a Parent\n",
    "\n",
    "### Importing Outside the Family Tree"
   ]
  },
  {
   "cell_type": "markdown",
   "metadata": {},
   "source": [
    "## Imports 301: Hacking Python's Import System\n",
    "\n",
    "### Creating Gitport, a GitHub-Based Importer\n",
    "\n",
    "### Integrating Gitport with Python's Import API"
   ]
  },
  {
   "cell_type": "markdown",
   "metadata": {},
   "source": [
    "## Summary"
   ]
  },
  {
   "cell_type": "markdown",
   "metadata": {},
   "source": [
    "## Where to Go from Here?"
   ]
  }
 ],
 "metadata": {
  "kernelspec": {
   "display_name": "Python 3",
   "language": "python",
   "name": "python3"
  },
  "language_info": {
   "codemirror_mode": {
    "name": "ipython",
    "version": 3
   },
   "file_extension": ".py",
   "mimetype": "text/x-python",
   "name": "python",
   "nbconvert_exporter": "python",
   "pygments_lexer": "ipython3",
   "version": "3.6.5"
  }
 },
 "nbformat": 4,
 "nbformat_minor": 2
}
