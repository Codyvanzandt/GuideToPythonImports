{
 "cells": [
  {
   "cell_type": "markdown",
   "metadata": {},
   "source": [
    "# Imports"
   ]
  },
  {
   "cell_type": "markdown",
   "metadata": {},
   "source": [
    "## What Is an Import?\n",
    "**Imports** allow us to use code that lives somewhere else -- somewhere different than where we're currently working. "
   ]
  },
  {
   "cell_type": "markdown",
   "metadata": {},
   "source": [
    "### What Do You Mean by \"Somewhere Else?\"\n",
    "\n",
    "### Modules\n",
    "Python code lives in files that end in \".py\"\n",
    "In Python-speak, these Python files are called **modules**.\n",
    "In a perfect world, we divide up our code into Python modules much in the same way as we divide up our writing into paragraphs. One paragraph expresses one idea, just as one module expresses one idea.\n",
    "\n",
    "For example, let's write some code to create a dinner plate and put it in a file named ```dinner_plate.py```\n",
    "\n",
    "\n",
    "```python\n",
    "class DinnerPlate( object ):\n",
    "    def __repr__( self ):\n",
    "        return \"DinnerPlate()\"\n",
    "    \n",
    "def make_dinner_plate():\n",
    "    return DinnerPlate()\n",
    "```\n",
    "\n",
    "Now we have a single module named ```dinner_plate.py```. Inside of that module are two objects:\n",
    "1. a class named ```DinnerPlate```\n",
    "2. and a function named ```make_dinner_plate```\n",
    "\n",
    "Here's what our world looks like:"
   ]
  },
  {
   "cell_type": "markdown",
   "metadata": {},
   "source": [
    "```text\n",
    "./example_code\n",
    "└── dinner_plate.py\n",
    "```"
   ]
  },
  {
   "cell_type": "markdown",
   "metadata": {},
   "source": [
    "### Packages\n",
    "If Python code lives in modules, then where do modules live? \n",
    "\n",
    "Modules live in folders, or in Python-speak, **packages**.\n",
    "\n",
    "Just as modules allow us to group Python snippets together, packages allow us to group modules together. Continuing with our writing metaphor, we divide modules into packages just like we divide paragraphs into chapters.\n",
    "\n",
    "For example, let's say that, in addition to our ```dinner_plate.py``` module, we create a similar module, ```cup.py```, and we put it right beside ```dinner_plate.py```.\n",
    "\n",
    "```python\n",
    "class Cup( object ):\n",
    "    def __repr__( self ):\n",
    "        return \"Cup()\"\n",
    "    \n",
    "def make_cup():\n",
    "    return Cup()\n",
    "```\n",
    "\n",
    "Here's what our world looks like now:"
   ]
  },
  {
   "cell_type": "markdown",
   "metadata": {},
   "source": [
    "```text\n",
    "./example_code\n",
    "├── cup.py\n",
    "└── dinner_plate.py\n",
    "```"
   ]
  },
  {
   "cell_type": "markdown",
   "metadata": {},
   "source": [
    "Now this is all well and good, but we might want to group ```dinner_plate.py``` and ```cup.py``` together into a package named ```flatware```. \n",
    "\n",
    "Now our world looks like this:"
   ]
  },
  {
   "cell_type": "markdown",
   "metadata": {},
   "source": [
    "```text\n",
    "./example_code/\n",
    "└── flatware\n",
    "    ├── cup.py\n",
    "    └── dinner_plate.py\n",
    "```"
   ]
  },
  {
   "cell_type": "markdown",
   "metadata": {},
   "source": [
    "Finally, just as chapters in books can have sub-chapters, packages can have subchapters!\n",
    "\n",
    "For example, let's add two files - ```fork.py``` and ```spoon.py``` - to our ```flatware``` package inside a new sub-package named ```utensils```.\n",
    "\n",
    "`fork.py`\n",
    "\n",
    "```python\n",
    "class Fork( object ):\n",
    "    def __repr__( self ):\n",
    "        return \"Fork()\"\n",
    " \n",
    "def make_fork():\n",
    "    return Fork()\n",
    "```\n",
    "\n",
    "`spoon.py`\n",
    "\n",
    "```python\n",
    "class Spoon( object ):\n",
    "    def __repr__( self ):\n",
    "        return \"Spoon()\"\n",
    "    \n",
    "def make_spoon():\n",
    "    return Spoon()\n",
    "```\n",
    "\n",
    "Now things look like this:\n",
    "\n",
    "```text\n",
    "example_code\n",
    "└── flatware\n",
    "    ├── cup.py\n",
    "    ├── dinner_plate.py\n",
    "    └── utensils\n",
    "        ├── fork.py\n",
    "        └── spoon.py\n",
    "```"
   ]
  },
  {
   "cell_type": "markdown",
   "metadata": {},
   "source": [
    "## Imports 101: The Basics of Using Imports\n",
    "Now that we know where Python code lives, it's time to get back to our original question: how do we use Python code that lives somewhere else? How do we **import** that code from *where it lives* into *where we want to use it*?\n",
    "\n",
    "What do you want to import?\n",
    "\t1. Absolute path from *where you currently are* to *what you want to import*\n",
    "\t2. Do you want to give it a nickname?\n",
    "\n",
    "### Importing a Module\n",
    "\n",
    "### Importing Something Inside of a Module\n",
    "\n",
    "### Absolute Imports\n",
    "\n",
    "### Relative Imports"
   ]
  },
  {
   "cell_type": "markdown",
   "metadata": {},
   "source": [
    "## Imports 102: How Do Imports Work?\n",
    "\n",
    "### How Does Python Search for Objects to Import?\n",
    "\n",
    "### Running a Module Complicates Things"
   ]
  },
  {
   "cell_type": "markdown",
   "metadata": {},
   "source": [
    "## Imports 201: How Do Imports *Really* Work?\n",
    "\n",
    "## Finders\n",
    "\n",
    "### Loaders"
   ]
  },
  {
   "cell_type": "markdown",
   "metadata": {},
   "source": [
    "## Imports 202: How Do I Import *THAT*?\n",
    "\n",
    "### Reasoning About Import Statements\n",
    "\n",
    "### Importing from a Sibling\n",
    "\n",
    "### Importing from a Child\n",
    "\n",
    "### Importing from a Parent\n",
    "\n",
    "### Importing Outside the Family Tree"
   ]
  },
  {
   "cell_type": "markdown",
   "metadata": {},
   "source": [
    "## Imports 301: Hacking Python's Import System\n",
    "\n",
    "### Creating Gitport, a GitHub-Based Importer\n",
    "\n",
    "### Integrating Gitport with Python's Import API"
   ]
  },
  {
   "cell_type": "markdown",
   "metadata": {},
   "source": [
    "## Summary"
   ]
  },
  {
   "cell_type": "markdown",
   "metadata": {},
   "source": [
    "## Where to Go from Here?"
   ]
  }
 ],
 "metadata": {
  "kernelspec": {
   "display_name": "Python 3",
   "language": "python",
   "name": "python3"
  },
  "language_info": {
   "codemirror_mode": {
    "name": "ipython",
    "version": 3
   },
   "file_extension": ".py",
   "mimetype": "text/x-python",
   "name": "python",
   "nbconvert_exporter": "python",
   "pygments_lexer": "ipython3",
   "version": "3.6.5"
  }
 },
 "nbformat": 4,
 "nbformat_minor": 2
}
