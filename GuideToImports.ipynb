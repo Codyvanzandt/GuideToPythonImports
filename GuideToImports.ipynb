{
 "cells": [
  {
   "cell_type": "markdown",
   "metadata": {},
   "source": [
    "# Imports"
   ]
  },
  {
   "cell_type": "markdown",
   "metadata": {},
   "source": [
    "## What Is an Import?\n",
    "**Imports** allow us to use code that lives somewhere else -- somewhere different than where we're currently working. "
   ]
  },
  {
   "cell_type": "markdown",
   "metadata": {},
   "source": [
    "### What Do You Mean by \"Somewhere Else?\"\n",
    "\n",
    "### Modules\n",
    "Python code lives in files that end in \".py\"\n",
    "In Python-speak, these Python files are called **\"modules\"**.\n",
    "In a perfect world, we divide up our code into Python **modules** much in the same way as we divide up our writing into paragraphs. One paragraph expresses one idea, just as one **module** expresses one idea.\n",
    "\n",
    "(Kitchen example! Fork.py, Knife.py, Spoon.py, KitchenDrawer.py )\n",
    "\n",
    "### Packages\n",
    "If Python code lives in modules, then where do modules live? \n",
    "Modules live in folders, or in Python-speak, **packages**.\n",
    "Just as **modules** allow us to group together pieces of Python code, **packages** allow us to group together related **modules**. Continuing with our writing metaphor, **packages** are chapters that combine paragraphs together in order to express an even bigger idea.\n",
    "And just like chapters can contain sub-chapters inside of them, packages can contain sub-packages! "
   ]
  },
  {
   "cell_type": "markdown",
   "metadata": {},
   "source": [
    "## Imports 101: The Basics of Using Imports\n",
    "Now that we know where Python code lives, it's time to get back to our original question: how do we use Python code that lives somewhere else? How do we **import** that code from *where it lives* into *where we want to use it*?\n",
    "\n",
    "What do you want to import?\n",
    "\t1. Absolute path from *where you currently are* to *what you want to import*\n",
    "\t2. Do you want to give it a nickname?\n",
    "\n",
    "### Importing a Module\n",
    "\n",
    "### Importing Something Inside of a Module\n",
    "\n",
    "### Absolute Imports\n",
    "\n",
    "### Relative Imports"
   ]
  },
  {
   "cell_type": "markdown",
   "metadata": {},
   "source": [
    "## Imports 102: How Do Imports Work?\n",
    "\n",
    "### How Does Python Search for Objects to Import?\n",
    "\n",
    "### Running a Module Complicates Things"
   ]
  },
  {
   "cell_type": "markdown",
   "metadata": {},
   "source": [
    "## Imports 201: How Do Imports *Really* Work?\n",
    "\n",
    "## Finders\n",
    "\n",
    "### Loaders"
   ]
  },
  {
   "cell_type": "markdown",
   "metadata": {},
   "source": [
    "## Imports 202: How Do I Import *THAT*?\n",
    "\n",
    "### Reasoning About Import Statements\n",
    "\n",
    "### Importing from a Sibling\n",
    "\n",
    "### Importing from a Child\n",
    "\n",
    "### Importing from a Parent\n",
    "\n",
    "### Importing Outside the Family Tree"
   ]
  },
  {
   "cell_type": "markdown",
   "metadata": {},
   "source": [
    "## Imports 301: Hacking Python's Import System\n",
    "\n",
    "### Creating Gitport, a GitHub-Based Importer\n",
    "\n",
    "### Integrating Gitport with Python's Import API"
   ]
  },
  {
   "cell_type": "markdown",
   "metadata": {},
   "source": [
    "## Summary"
   ]
  },
  {
   "cell_type": "markdown",
   "metadata": {},
   "source": [
    "## Where to Go from Here?"
   ]
  }
 ],
 "metadata": {
  "kernelspec": {
   "display_name": "Python 3",
   "language": "python",
   "name": "python3"
  },
  "language_info": {
   "codemirror_mode": {
    "name": "ipython",
    "version": 3
   },
   "file_extension": ".py",
   "mimetype": "text/x-python",
   "name": "python",
   "nbconvert_exporter": "python",
   "pygments_lexer": "ipython3",
   "version": "3.6.5"
  }
 },
 "nbformat": 4,
 "nbformat_minor": 2
}
